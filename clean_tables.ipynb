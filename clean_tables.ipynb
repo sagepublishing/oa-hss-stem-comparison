{
 "cells": [
  {
   "cell_type": "code",
   "execution_count": 39,
   "metadata": {},
   "outputs": [],
   "source": [
    "import xlrd\n",
    "from decimal import Decimal "
   ]
  },
  {
   "cell_type": "code",
   "execution_count": 127,
   "metadata": {},
   "outputs": [
    {
     "name": "stdout",
     "output_type": "stream",
     "text": [
      "Dimensions.xlsx\r\n",
      "MarketShareComparison.xlsx\r\n",
      "SAGE Articles Published 2010-2019 Aug YTD.xlsx\r\n",
      "publisher_data.xlsx\r\n"
     ]
    }
   ],
   "source": [
    "ls *.xlsx"
   ]
  },
  {
   "cell_type": "code",
   "execution_count": 128,
   "metadata": {},
   "outputs": [],
   "source": []
  },
  {
   "cell_type": "code",
   "execution_count": 115,
   "metadata": {},
   "outputs": [],
   "source": [
    "def clean_row(row_data):\n",
    "    clean_row_data = []\n",
    "    # get rid of newlines \n",
    "    for item in row_data:\n",
    "        try:\n",
    "            clean_row_data.append(item.strip().lstrip())\n",
    "        except:\n",
    "            clean_row_data.append(item)\n",
    "    \n",
    "    # clean up the number of journal articles\n",
    "    article_num = clean_row_data[2]\n",
    "    if isinstance(article_num, str): clean_row_data[2] = int(article_num.replace(\",\",\"\"))\n",
    "            \n",
    "    # clean up the price\n",
    "    price = clean_row_data[4]\n",
    "    if isinstance(price, int): d_price = price\n",
    "    if isinstance(price, float): d_price = price\n",
    "    if isinstance(price, str): d_price = (int(price.strip('$').replace(\",\",\"\")))\n",
    "        \n",
    "\n",
    "\n",
    "    if isinstance(clean_row_data[1] , str): \n",
    "        int_pub_num = int(clean_row_data[1].replace(\",\",\"\"))\n",
    "        clean_row_data[1] = int_pub_num\n",
    "    clean_row_data[4] = d_price\n",
    "    return clean_row_data"
   ]
  },
  {
   "cell_type": "code",
   "execution_count": 116,
   "metadata": {},
   "outputs": [],
   "source": [
    "STEM = ['Medicine', \n",
    "        'Other Sciences', \n",
    "        'Biology', \n",
    "        'Physics', \n",
    "        'Agriculture', \n",
    "        'Earth Sciences', \n",
    "        'Zoology', \n",
    "        'Mathematics', \n",
    "        'Ecology', \n",
    "        'Chemistry', \n",
    "        'Engineering', \n",
    "        'Technology', \n",
    "        'Computer Science']\n",
    "       \n",
    "HSS = ['Psychology', \n",
    "        'Education', \n",
    "        'Economics', \n",
    "        'Law', \n",
    "        'Miscellany', \n",
    "        'Sociology', \n",
    "        'Miscellany', \n",
    "        'Sociology', \n",
    "        'Philosophy', \n",
    "        'Language & Literature', \n",
    "        'Media & Communications', \n",
    "        'Arts & Architecture', \n",
    "        'Political Science',\n",
    "        'Anthropology']"
   ]
  },
  {
   "cell_type": "code",
   "execution_count": 143,
   "metadata": {},
   "outputs": [
    {
     "name": "stdout",
     "output_type": "stream",
     "text": [
      "15\n",
      "['Medicine', 52.0, 7351, 0.03, 2241]\n",
      "['Ecology', 6.0, 1689, 0.0, 1885]\n",
      "['Biology', 9.0, 1026.0, 0.0, 2461]\n",
      "['Agriculture', 5.0, 926, 0.43, 1352]\n",
      "['Other Sciences', 2.0, 507.0, 0.0, 4650]\n",
      "['Zoology', 3.0, 346, 0.0, 1823]\n",
      "['Chemistry', 2.0, 222, 0.0, 2162]\n",
      "['Earth Sciences', 4.0, 127, 0.0, 1806]\n",
      "['Education', 1.0, 66.0, 0.0, 1600]\n",
      "['Engineering', 1.0, 65, 0.0, 1900]\n",
      "['Arts & Architecture', 1.0, 50.0, 0.0, 1500]\n",
      "['Political Science', 1.0, 50, 1.0, 0]\n",
      "['Mathematics', 1.0, 5, 0.0, 1250]\n",
      "total revenue\n",
      "27442278.0\n",
      "\n",
      "STEM:\n",
      "12264.0\n",
      "27261678.0\n",
      "\n",
      "HSS:\n",
      "166.0\n",
      "180600.0\n"
     ]
    }
   ],
   "source": [
    "book = xlrd.open_workbook(\"publisher_data.xlsx\")\n",
    "publisher_sheet = book.sheet_by_index(9)\n",
    "num_rows =  publisher_sheet.nrows\n",
    "print(num_rows)\n",
    "\n",
    "revenue_sum = 0 \n",
    "stem_revenue_sum = 0 \n",
    "stem_article_sum = 0 \n",
    "\n",
    "hss_revenue_sum = 0 \n",
    "hss_article_sum = 0 \n",
    "\n",
    "subjects = []\n",
    "for _ in range(2,num_rows):\n",
    "    row_data = publisher_sheet.row_values(_)\n",
    "    cleaned_row = clean_row(row_data)\n",
    "    print(cleaned_row)\n",
    "    revenue = cleaned_row[2] * cleaned_row[4]\n",
    "    revenue_sum += revenue\n",
    "    \n",
    "    subject = cleaned_row[0]\n",
    "    if subject in HSS: \n",
    "        hss_revenue_sum += revenue\n",
    "        hss_article_sum += cleaned_row[2]\n",
    "    if subject in STEM: \n",
    "        stem_revenue_sum += revenue\n",
    "        stem_article_sum += cleaned_row[2]\n",
    "\n",
    "\n",
    "print(\"total revenue\")        \n",
    "print(revenue_sum)\n",
    "\n",
    "\n",
    "print(\"\")\n",
    "\n",
    "\n",
    "print(\"STEM:\")\n",
    "print(stem_article_sum)\n",
    "print(stem_revenue_sum)\n",
    "\n",
    "\n",
    "print(\"\")\n",
    "\n",
    "print(\"HSS:\")\n",
    "print(hss_article_sum)\n",
    "print(hss_revenue_sum)\n",
    "\n"
   ]
  },
  {
   "cell_type": "code",
   "execution_count": null,
   "metadata": {},
   "outputs": [],
   "source": []
  },
  {
   "cell_type": "code",
   "execution_count": null,
   "metadata": {},
   "outputs": [],
   "source": []
  }
 ],
 "metadata": {
  "kernelspec": {
   "display_name": "Python 3",
   "language": "python",
   "name": "python3"
  },
  "language_info": {
   "codemirror_mode": {
    "name": "ipython",
    "version": 3
   },
   "file_extension": ".py",
   "mimetype": "text/x-python",
   "name": "python",
   "nbconvert_exporter": "python",
   "pygments_lexer": "ipython3",
   "version": "3.7.1"
  },
  "toc": {
   "base_numbering": 1,
   "nav_menu": {},
   "number_sections": true,
   "sideBar": true,
   "skip_h1_title": false,
   "title_cell": "Table of Contents",
   "title_sidebar": "Contents",
   "toc_cell": false,
   "toc_position": {},
   "toc_section_display": true,
   "toc_window_display": false
  },
  "varInspector": {
   "cols": {
    "lenName": 16,
    "lenType": 16,
    "lenVar": 40
   },
   "kernels_config": {
    "python": {
     "delete_cmd_postfix": "",
     "delete_cmd_prefix": "del ",
     "library": "var_list.py",
     "varRefreshCmd": "print(var_dic_list())"
    },
    "r": {
     "delete_cmd_postfix": ") ",
     "delete_cmd_prefix": "rm(",
     "library": "var_list.r",
     "varRefreshCmd": "cat(var_dic_list()) "
    }
   },
   "types_to_exclude": [
    "module",
    "function",
    "builtin_function_or_method",
    "instance",
    "_Feature"
   ],
   "window_display": false
  }
 },
 "nbformat": 4,
 "nbformat_minor": 2
}
